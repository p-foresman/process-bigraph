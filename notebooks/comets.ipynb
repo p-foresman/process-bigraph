{
 "cells": [
  {
   "cell_type": "code",
   "execution_count": 3,
   "id": "initial_id",
   "metadata": {
    "collapsed": true,
    "ExecuteTime": {
     "end_time": "2024-06-02T01:06:40.712896Z",
     "start_time": "2024-06-02T01:06:40.158218Z"
    }
   },
   "outputs": [],
   "source": [
    "from process_bigraph import Process\n",
    "\n",
    "import cobra\n",
    "from cobra.io import load_model\n",
    "\n",
    "model = load_model(\"textbook\")"
   ]
  },
  {
   "cell_type": "code",
   "outputs": [],
   "source": [
    "class DynamicFBA(Process):\n",
    "    \"\"\"\n",
    "    Performs dynamic FBA.\n",
    "\n",
    "    Parameters:\n",
    "    - model: The metabolic model for the simulation.\n",
    "    - kinetic_params: Kinetic parameters (Km and Vmax) for each substrate.\n",
    "    - biomass_reaction: The identifier for the biomass reaction in the model.\n",
    "    - substrate_update_reactions: A dictionary mapping substrates to their update reactions.\n",
    "    - biomass_identifier: The identifier for biomass in the current state.\n",
    "\n",
    "    Returns:\n",
    "    - Updated state after the timestep.\n",
    "    \"\"\"\n",
    "    \n",
    "    config_schema = {\n",
    "        'model_file': 'Any',\n",
    "        'kinetic_params': 'Any',\n",
    "        'biomass_reaction': 'Any',\n",
    "        'biomass_identifier': 'Any',\n",
    "    }\n",
    "  \n",
    "    def __init__(self, config):\n",
    "        super().__init__(config)\n",
    "        self.model = cobra.io.read_sbml_model(self.config['model_file'])\n",
    "        \n",
    "    def inputs(self):\n",
    "        return {}\n",
    "    \n",
    "    def outputs(self):\n",
    "        return {}\n",
    "    \n",
    "    # TODO -- can we just put the inputs/outputs directly in the function?\n",
    "    def update(self, state, interval):\n",
    "        updated_state = state.copy()\n",
    "        \n",
    "        for substrate, reaction_id in substrate_update_reactions.items():\n",
    "            Km, Vmax = kinetic_params[substrate]\n",
    "            substrate_concentration = updated_state[substrate]\n",
    "            uptake_rate = Vmax * substrate_concentration / (Km + substrate_concentration)\n",
    "            self.model.reactions.get_by_id(reaction_id).lower_bound = -uptake_rate\n",
    "    \n",
    "        solution = self.model.optimize()\n",
    "        if solution.status == 'optimal':\n",
    "            current_biomass = state[self.config['biomass_identifier']]\n",
    "            biomass_growth_rate = solution.fluxes[self.config['biomass_reaction']]\n",
    "            updated_state[self.config['biomass_identifier']] += biomass_growth_rate * current_biomass * interval\n",
    "    \n",
    "            for substrate, reaction_id in substrate_update_reactions.items():\n",
    "                flux = solution.fluxes[reaction_id]\n",
    "                updated_state[substrate] = max(updated_state[substrate] + flux * current_biomass * interval, 0)\n",
    "        else:\n",
    "            # Handle non-optimal solutions if necessary\n",
    "            pass\n",
    "    \n",
    "        return updated_state"
   ],
   "metadata": {
    "collapsed": false,
    "ExecuteTime": {
     "end_time": "2024-06-02T00:57:30.191607Z",
     "start_time": "2024-06-02T00:57:30.187784Z"
    }
   },
   "id": "50a4fb171d2aafa5",
   "execution_count": 2
  },
  {
   "cell_type": "code",
   "outputs": [],
   "source": [
    "model.reactions.EX_o2_e.lower_bound = -2  # Limiting oxygen uptake\n",
    "model.reactions.ATPM.lower_bound = 1     # Setting lower bound for ATP maintenance\n",
    "model.reactions.ATPM.upper_bound = 1     # Setting upper bound for ATP maintenance\n",
    "\n",
    "# Define initial conditions, kinetic parameters, and other necessary inputs\n",
    "initial_conditions = {\n",
    "    'biomass': 0.1,  # Initial biomass concentration\n",
    "    'glucose': 20.0, # Initial glucose concentration\n",
    "    'acetate': 0.0   # Initial acetate concentration\n",
    "}\n",
    "kinetic_params = {\n",
    "    'glucose': (0.5, 2), # Km and Vmax for glucose\n",
    "    'acetate': (0.5, 2)  # Km and Vmax for acetate\n",
    "}\n",
    "substrate_update_reactions = {\n",
    "    'glucose': 'EX_glc__D_e',  # Exchange reaction ID for glucose\n",
    "    'acetate': 'EX_ac_e'       # Exchange reaction ID for acetate\n",
    "}\n",
    "\n",
    "# simulation conditions\n",
    "t_n = 100 # number of time points\n",
    "dt = 0.5  # Time step, matching your setup\n",
    "time_points = list(range(0, t_n))  # Simulation time points, matching your setup\n",
    "\n",
    "# Make sure to adjust the perform_dfba function if needed to initialize result arrays with sufficient size\n",
    "dfba_results = perform_dfba(\n",
    "    model, \n",
    "    initial_conditions, \n",
    "    kinetic_params, \n",
    "    time_points, \n",
    "    'Biomass_Ecoli_core', \n",
    "    substrate_update_reactions, \n",
    "    dt,\n",
    "    'biomass'\n",
    ")"
   ],
   "metadata": {
    "collapsed": false,
    "ExecuteTime": {
     "end_time": "2024-06-02T00:57:30.194070Z",
     "start_time": "2024-06-02T00:57:30.192679Z"
    }
   },
   "id": "c9b5adee14ee7d91",
   "execution_count": 2
  }
 ],
 "metadata": {
  "kernelspec": {
   "name": "venv_kernel",
   "language": "python",
   "display_name": "Python (venv)"
  },
  "language_info": {
   "codemirror_mode": {
    "name": "ipython",
    "version": 2
   },
   "file_extension": ".py",
   "mimetype": "text/x-python",
   "name": "python",
   "nbconvert_exporter": "python",
   "pygments_lexer": "ipython2",
   "version": "2.7.6"
  }
 },
 "nbformat": 4,
 "nbformat_minor": 5
}
